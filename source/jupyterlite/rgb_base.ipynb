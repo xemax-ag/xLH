{
 "metadata": {
  "kernelspec": {
   "name": "python",
   "display_name": "Python (Pyodide)",
   "language": "python"
  },
  "language_info": {
   "codemirror_mode": {
    "name": "python",
    "version": 3
   },
   "file_extension": ".py",
   "mimetype": "text/x-python",
   "name": "python",
   "nbconvert_exporter": "python",
   "pygments_lexer": "ipython3",
   "version": "3.8"
  }
 },
 "nbformat_minor": 5,
 "nbformat": 4,
 "cells": [
  {
   "id": "e54dfc52-4842-48d0-a84b-7b885ef062eb",
   "cell_type": "markdown",
   "source": "# RGB Matrix",
   "metadata": {}
  },
  {
   "id": "a1ad078a-cb58-46ae-8a1c-cd3066a56b95",
   "cell_type": "markdown",
   "source": "## Funktionsdefinitionen zur Ansteuerung der RGB Matrix",
   "metadata": {}
  },
  {
   "id": "90750b7b-748d-42bd-a90e-d62549f2614c",
   "cell_type": "code",
   "source": [
    "import requests\n",
    "import time\n",
    "# URL xLH-base\n",
    "URL = 'http://192.168.31.31'"
   ],
   "metadata": {
    "trusted": true
   },
   "outputs": [],
   "execution_count": 69
  },
  {
   "id": "14d30610-7261-4e61-9b2f-4a8f74f17bca",
   "cell_type": "code",
   "source": "def rgb_values(values):\n    payload = {\n        'values': values\n    }\n    headers = {\n        'Content-Type': 'application/json',\n        'User-Agent': 'xLH'\n    }\n    response = requests.request('POST', f'{URL}/rgb/values/', json=payload, headers=headers)\n    return response.json()\n\ndef rgb_wipe(r: int = 0, g: int = 0, b: int = 0):\n    headers = {\n        'User-Agent': 'xLH'\n    }\n    response = requests.request('GET', f'{URL}/rgb/wipe/{r}/{g}/{b}/', headers=headers)\n    # print(response)\n    return response.json()",
   "metadata": {
    "trusted": true
   },
   "outputs": [],
   "execution_count": 70
  },
  {
   "id": "600f679b-7ddb-4ae9-874f-37ed49024bb2",
   "cell_type": "code",
   "source": "%%time\nvalues = [[{'r': 0, 'g': 0, 'b': 0} for i in range(8)] for j in range(8)]\n#json.dumps(values)\nvalues[0][1] = {'r': 0, 'g': 10, 'b': 0}\nprint(rgb_values(values))\ntime.sleep(1)\nprint(rgb_wipe(r=0, g=0, b=0))",
   "metadata": {
    "trusted": true
   },
   "outputs": [
    {
     "name": "stdout",
     "output_type": "stream",
     "text": "{'msg': 'ok'}\n{'msg': 'ok'}\nCPU times: user 0 ns, sys: 0 ns, total: 0 ns\nWall time: 1.11 s\n"
    }
   ],
   "execution_count": 76
  },
  {
   "id": "c51804dd-8149-4695-b82a-411620801a93",
   "cell_type": "markdown",
   "source": "## Konkrete Aufgabenstellung",
   "metadata": {}
  },
  {
   "id": "b6f67d57-23cf-456b-8217-a3a514919c5a",
   "cell_type": "code",
   "source": "%%time\nvalues = [[{'r': 0, 'g': 0, 'b': 0} for i in range(8)] for j in range(8)] \nvalues[0] = [{'r': i, 'g': 0, 'b': 0} for i in range(8)] \nvalues[1] = [{'r': 0, 'g': i, 'b': 0} for i in range(8)] \nvalues[2] = [{'r': 0, 'g': 0, 'b': i} for i in range(8)] \nvalues[7][7] = {'r': 1, 'g': 0, 'b': 0}  \nrgb_values(values)",
   "metadata": {
    "trusted": true
   },
   "outputs": [
    {
     "name": "stdout",
     "output_type": "stream",
     "text": "CPU times: user 0 ns, sys: 0 ns, total: 0 ns\nWall time: 50 ms\n"
    },
    {
     "execution_count": 82,
     "output_type": "execute_result",
     "data": {
      "text/plain": "{'msg': 'ok'}"
     },
     "metadata": {}
    }
   ],
   "execution_count": 82
  },
  {
   "id": "cb4f4d76-2752-4d30-aca6-2ddcd9a370e5",
   "cell_type": "code",
   "source": "%%time\nrgb_wipe()",
   "metadata": {
    "trusted": true
   },
   "outputs": [
    {
     "name": "stdout",
     "output_type": "stream",
     "text": "CPU times: user 0 ns, sys: 0 ns, total: 0 ns\nWall time: 49 ms\n"
    },
    {
     "execution_count": 78,
     "output_type": "execute_result",
     "data": {
      "text/plain": "{'msg': 'ok'}"
     },
     "metadata": {}
    }
   ],
   "execution_count": 78
  },
  {
   "id": "2e28c097-db20-4231-a3fd-1925bdaf3d8f",
   "cell_type": "code",
   "source": "%%time\nrgb_wipe(r=0, g=1, b=0)",
   "metadata": {
    "trusted": true
   },
   "outputs": [
    {
     "name": "stdout",
     "output_type": "stream",
     "text": "CPU times: user 0 ns, sys: 0 ns, total: 0 ns\nWall time: 50 ms\n"
    },
    {
     "execution_count": 81,
     "output_type": "execute_result",
     "data": {
      "text/plain": "{'msg': 'ok'}"
     },
     "metadata": {}
    }
   ],
   "execution_count": 81
  },
  {
   "id": "7741d714-d8a8-4a3e-ba0b-f5b2e3067eb4",
   "cell_type": "code",
   "source": "# END",
   "metadata": {
    "trusted": true
   },
   "outputs": [],
   "execution_count": 12
  }
 ]
}
