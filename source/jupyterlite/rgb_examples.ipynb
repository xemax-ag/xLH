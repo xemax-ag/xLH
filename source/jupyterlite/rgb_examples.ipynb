{
  "metadata": {
    "kernelspec": {
      "name": "python",
      "display_name": "Python (Pyodide)",
      "language": "python"
    },
    "language_info": {
      "codemirror_mode": {
        "name": "python",
        "version": 3
      },
      "file_extension": ".py",
      "mimetype": "text/x-python",
      "name": "python",
      "nbconvert_exporter": "python",
      "pygments_lexer": "ipython3",
      "version": "3.8"
    }
  },
  "nbformat_minor": 5,
  "nbformat": 4,
  "cells": [
    {
      "id": "e54dfc52-4842-48d0-a84b-7b885ef062eb",
      "cell_type": "markdown",
      "source": "# RGB Matrix",
      "metadata": {}
    },
    {
      "id": "a1ad078a-cb58-46ae-8a1c-cd3066a56b95",
      "cell_type": "markdown",
      "source": "## Funktionsdefinitionen zur Ansteuerung der RGB Matrix",
      "metadata": {}
    },
    {
      "id": "659d9cea-1008-4912-baa0-c71d12a4d8f6",
      "cell_type": "code",
      "source": "import requests\nimport time\n\nURL = 'http://192.168.1.31'",
      "metadata": {
        "trusted": true
      },
      "outputs": [],
      "execution_count": 1
    },
    {
      "id": "14d30610-7261-4e61-9b2f-4a8f74f17bca",
      "cell_type": "code",
      "source": "def rgb_values(values):\n    payload = {\n        'values': values\n    }\n    headers = {\n        'Content-Type': 'application/json',\n        'User-Agent': 'xLH'\n    }\n    response = requests.request('POST', f'{URL}/rgb/values/', json=payload, headers=headers)\n    return response.json()\n\ndef rgb_wipe(r: int = 0, g: int = 0, b: int = 0):\n    headers = {\n        'User-Agent': 'xLH'\n    }\n    response = requests.request('GET', f'{URL}/rgb/wipe/{r}/{g}/{b}/', headers=headers)\n    # print(response)\n    return response.json()",
      "metadata": {
        "trusted": true
      },
      "outputs": [],
      "execution_count": 2
    },
    {
      "id": "45af227a-cf01-4db3-ba43-029652142a3a",
      "cell_type": "markdown",
      "source": "---",
      "metadata": {}
    },
    {
      "id": "c51804dd-8149-4695-b82a-411620801a93",
      "cell_type": "markdown",
      "source": "## Konkrete Aufgabenstellung 1",
      "metadata": {}
    },
    {
      "id": "b6f67d57-23cf-456b-8217-a3a514919c5a",
      "cell_type": "code",
      "source": "%%time\nvalues = [[{'r': 0, 'g': 0, 'b': 0} for i in range(8)] for j in range(8)] \nvalues[0] = [{'r': i, 'g': 0, 'b': 0} for i in range(8)] \nvalues[1] = [{'r': 0, 'g': i, 'b': 0} for i in range(8)] \nvalues[2] = [{'r': 0, 'g': 0, 'b': i} for i in range(8)] \nvalues[7][7] = {'r': 1, 'g': 0, 'b': 0}  \nrgb_values(values)",
      "metadata": {
        "trusted": true
      },
      "outputs": [
        {
          "name": "stdout",
          "output_type": "stream",
          "text": "CPU times: user 0 ns, sys: 0 ns, total: 0 ns\nWall time: 58 ms\n"
        },
        {
          "execution_count": 3,
          "output_type": "execute_result",
          "data": {
            "text/plain": "{'msg': 'ok'}"
          },
          "metadata": {}
        }
      ],
      "execution_count": 3
    },
    {
      "id": "cf0e62b3-b19f-4350-9f1e-91b171763619",
      "cell_type": "markdown",
      "source": "---",
      "metadata": {}
    },
    {
      "id": "e2f5b0dd-6744-4a66-8c94-23df5e2d7661",
      "cell_type": "markdown",
      "source": "## Konkrete Aufgabenstellung 2\nEs sollen die Hauptdiagonale (oben-links nach unten-rechts) sowie die Nebendiagonale (oben-rechts nach unten-links) mit derselben Farbe erleuchtet werden.\nDie Farbe soll mittels den Farbanteilen Rot, Grün und Blau vorgegeben werden können.",
      "metadata": {}
    },
    {
      "id": "daaff5ed-2b94-4dc2-953a-fc9fb526d39d",
      "cell_type": "code",
      "source": "# Farbdefinition der Diagonalen (statisch)\nred = 0\ngreen = 0\nblue = 10\n# RGB's initialisieren und auf Null setzen\nrgb_wipe()\nvalues = [[{'r': 0, 'g': 0, 'b': 0} for i in range(8)] for j in range(8)]\n# Diagonale Farbe zuweisen\nfor i in range(8):\n    values[i][i] = {'r': red, 'g': green, 'b': blue}  # Hauptdiagonale\n    values[i][7 - i] = {'r': red, 'g': green, 'blue': blue}  # Nebendiagonale\nrgb_values(values)",
      "metadata": {
        "trusted": true
      },
      "outputs": [
        {
          "execution_count": 6,
          "output_type": "execute_result",
          "data": {
            "text/plain": "{'msg': 'ok'}"
          },
          "metadata": {}
        }
      ],
      "execution_count": 6
    },
    {
      "id": "6e485c26-a52b-4444-93fc-12f340b62128",
      "cell_type": "code",
      "source": "# Farbdefinition der Diagonalen (dynamisch)\nred = 1\ngreen = 0\nblue = 0\n# RGB's initialisieren und auf Null setzen\nrgb_wipe()\nvalues = [[{'r': 0, 'g': 0, 'b': 0} for i in range(8)] for j in range(8)]\n# Diagonale Farbe zuweisen\nfor i in range(8):\n    values[i][i] = {'r': red, 'g': green, 'b': blue}  # Hauptdiagonale\n    values[i][7 - i] = {'r': red, 'g': green, 'b': blue}  # Nebendiagonale\n    rgb_values(values)\n    time.sleep(0.15)",
      "metadata": {
        "trusted": true
      },
      "outputs": [],
      "execution_count": 9
    },
    {
      "id": "90b82f09-2908-4715-bad6-74d8f143a4f7",
      "cell_type": "markdown",
      "source": "---",
      "metadata": {}
    },
    {
      "id": "c4b26089-2115-4ba2-9294-92bc7583a1ed",
      "cell_type": "markdown",
      "source": "### Konkrete Aufgabenstellung 3\nEs soll eine Funktion erstellt werden, welche es erlaubt eine spezifische RGB-LED (Zeile, Spalte) mittels einer Farbvorgabe anzusteuern. ",
      "metadata": {}
    },
    {
      "id": "aa6288ab-b2b0-4ab5-af7c-bfadc50005ee",
      "cell_type": "code",
      "source": "def write_rgb_led(location=[0, 0], color={'r': 0, 'g': 0, 'b': 0}):\n    # RGB's initialisieren und auf Null setzen\n    values = [[{'r': 0, 'g': 0, 'b': 0} for i in range(8)] for j in range(8)]\n    values[location[0] - 1][location[1] - 1] = color\n    response = rgb_values(values)\n    return response",
      "metadata": {
        "trusted": true
      },
      "outputs": [],
      "execution_count": 14
    },
    {
      "id": "18db2039-85f9-4986-b3ac-6b6a71c809a3",
      "cell_type": "code",
      "source": "# Farbdefinition\nred = 0\ngreen = 10\nblue = 0\n# Location\nzeile = 6\nspalte = 7\n# Funktionsaufruf\nwrite_rgb_led(location=[zeile, spalte], color={'r': red, 'g': green, 'b': blue})",
      "metadata": {
        "trusted": true
      },
      "outputs": [
        {
          "execution_count": 20,
          "output_type": "execute_result",
          "data": {
            "text/plain": "{'msg': 'ok'}"
          },
          "metadata": {}
        }
      ],
      "execution_count": 20
    },
    {
      "id": "39e16da8-055d-4888-a5bc-c2974d05ebaf",
      "cell_type": "markdown",
      "source": "---",
      "metadata": {}
    },
    {
      "id": "f4a40d54-2ca3-4db7-bda4-33b41de6a596",
      "cell_type": "markdown",
      "source": "### Konkrete Aufgabenstellung 4\nEs soll ein Lauflicht erstellt werden. Bei ungeraden Zeilen soll das Lauflicht von links nach rechts (v.l.n.r.) und bei geraden Zeilen von rechts nach links (v.r.n.l.).",
      "metadata": {}
    },
    {
      "id": "b7d98839-195b-45ce-84e3-8972ea691d4a",
      "cell_type": "code",
      "source": "# Farbdefinition\nred = 1\ngreen = 0\nblue = 0\n# RGB's initialisieren und auf Null setzen\nrgb_wipe()\nvalues = [[{'r': 0, 'g': 0, 'b': 0} for i in range(8)] for j in range(8)]\nfor i in range(8):\n    for j in range(8):\n        if i % 2 == 0:\n            values[i][j] = {'r': red, 'g': green, 'b': blue}  # v.l.n.r.\n        else:\n            values[i][7 - j] = {'r': red, 'g': green, 'b': blue}  # v.r.n.l.\n        rgb_values(values)\n        # time.sleep(0.05)",
      "metadata": {
        "trusted": true
      },
      "outputs": [],
      "execution_count": 23
    },
    {
      "id": "fff40645-90ad-4f3f-b4c1-aa74a605c8a1",
      "cell_type": "markdown",
      "source": "---",
      "metadata": {}
    },
    {
      "id": "7741d714-d8a8-4a3e-ba0b-f5b2e3067eb4",
      "cell_type": "code",
      "source": "# END",
      "metadata": {
        "trusted": true
      },
      "outputs": [],
      "execution_count": 15
    }
  ]
}